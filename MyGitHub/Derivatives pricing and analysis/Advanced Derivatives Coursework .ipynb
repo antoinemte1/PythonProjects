{
 "cells": [
  {
   "cell_type": "markdown",
   "metadata": {},
   "source": [
    "In this notebook I realize the three following exercises:\n",
    "\n",
    "   Q1: BSM Hedging\n",
    "    \n",
    "   -We test the library financepy created by Dominic O'Kane used for the pricing of financial Products.\n",
    "   \n",
    "   -We create a function that simulates the delta hedging of a European call option with different frequency and we compute the hedging error\n",
    "   \n",
    "   -We compute the mean, variance and mean absolute error of hedging error with regard to frequency of hedging\n",
    "   \n",
    "   Q2: LeLand Adjustment\n",
    "   \n",
    "   -We add round trip bid-ask transaction costs and analyze their effects on hedging error, hedging costs and therefore option prices\n",
    "   \n",
    "   Q3: Implied density of Terminal Stock price with Breeden-Litzenberger\n",
    "   \n",
    "   -We determine the implied density of the terminal stock price from the volatility skew using Breeden-Litzenberger formula\n",
    "   \n",
    "   -We price a digital call option using two methods:\n",
    "   \n",
    "       - BS formula\n",
    "       \n",
    "       - Using the probability density function implied by the volatility smile\n",
    "       \n",
    "   "
   ]
  },
  {
   "cell_type": "code",
   "execution_count": 1,
   "metadata": {},
   "outputs": [],
   "source": [
    "import numpy as np\n",
    "import pandas as pd\n",
    "import matplotlib.pyplot as plt\n",
    "import math as mth"
   ]
  },
  {
   "cell_type": "code",
   "execution_count": 2,
   "metadata": {
    "scrolled": true
   },
   "outputs": [
    {
     "name": "stdout",
     "output_type": "stream",
     "text": [
      "####################################################################\n",
      "# FINANCEPY BETA Version 0.260 - This build:  22 Nov 2022 at 13:42 #\n",
      "#      This software is distributed FREE & WITHOUT ANY WARRANTY    #\n",
      "#  Report bugs as issues at https://github.com/domokane/FinancePy  #\n",
      "####################################################################\n",
      "\n"
     ]
    }
   ],
   "source": [
    "from financepy.utils import *\n",
    "from financepy.products.equity import *"
   ]
  },
  {
   "cell_type": "markdown",
   "metadata": {},
   "source": [
    "# Question 1: BSM Hedging"
   ]
  },
  {
   "cell_type": "markdown",
   "metadata": {},
   "source": [
    "a) Install financepy and using the documentation and notebook examples, determine how\n",
    "to value an Equity Vanilla Option."
   ]
  },
  {
   "cell_type": "code",
   "execution_count": 3,
   "metadata": {},
   "outputs": [],
   "source": [
    "def vanillaPrice(K, S, r, sigma, q, T, valuation_date, flag):\n",
    "\n",
    "    #Define dates\n",
    "    expiry_date = valuation_date.add_years(T)\n",
    "    \n",
    "    #Define the models to be used for risk-free rate, dividend and vol\n",
    "    discount_curve = DiscountCurveFlat(valuation_date, r, FrequencyTypes.CONTINUOUS)\n",
    "    dividend_curve = DiscountCurveFlat(valuation_date, q)\n",
    "    model = BlackScholes(sigma)\n",
    "    \n",
    "    if flag == 'call':\n",
    "        call_option = EquityVanillaOption(expiry_date, K, OptionTypes.EUROPEAN_CALL)\n",
    "        optPrice = call_option.value(valuation_date, S, discount_curve, dividend_curve, model)\n",
    "        vanillaPrice.delta = (valuation_date, S, discount_curve, dividend_curve, model)\n",
    "    elif flag == 'put':\n",
    "        put_option = EquityVanillaOption(expiry_date, K, OptionTypes.EUROPEAN_PUT)\n",
    "        optPrice = put_option.value(valuation_date, S, discount_curve, dividend_curve, model)\n",
    "        vanillaPrice.delta = (valuation_date, S, discount_curve, dividend_curve, model)\n",
    "    else :\n",
    "        print('Please define flag as call or put')\n",
    "\n",
    "    return optPrice"
   ]
  },
  {
   "cell_type": "code",
   "execution_count": 4,
   "metadata": {},
   "outputs": [
    {
     "name": "stdout",
     "output_type": "stream",
     "text": [
      "C - P:  -7.821854063743061\n",
      "S0 - PV(K):  -7.821854063743075\n"
     ]
    }
   ],
   "source": [
    "# Checking if Put Call Parity Holds to ensure pricing is correct\n",
    "c = vanillaPrice(110, 100, 0.02, 0.2, 0.00, 1, Date(12, 12, 2022), \"call\")\n",
    "p = vanillaPrice(110, 100, 0.02, 0.2, 0.00, 1, Date(12, 12, 2022), \"put\")\n",
    "parity = 100 - 110 * mth.exp((-0.02) * 1)\n",
    "print(\"C - P: \", c - p)\n",
    "print(\"S0 - PV(K): \", parity)"
   ]
  },
  {
   "cell_type": "markdown",
   "metadata": {},
   "source": [
    "b) Use financepy to calculate the option delta"
   ]
  },
  {
   "cell_type": "code",
   "execution_count": 5,
   "metadata": {},
   "outputs": [],
   "source": [
    "def vanillaDelta(K, S, r, sigma, q, T, valuation_date, flag):\n",
    "    \n",
    "    #Define dates\n",
    "    expiry_date = valuation_date.add_years(T)\n",
    "    \n",
    "    #Define the models to be used for risk-free rate, dividend and vol\n",
    "    discount_curve = DiscountCurveFlat(valuation_date, r, FrequencyTypes.CONTINUOUS)\n",
    "    dividend_curve = DiscountCurveFlat(valuation_date, q)\n",
    "    model = BlackScholes(sigma)\n",
    "    \n",
    "    if flag == 'call':\n",
    "        call_option = EquityVanillaOption(expiry_date, K, OptionTypes.EUROPEAN_CALL)\n",
    "        optDelta = call_option.delta(valuation_date, S, discount_curve, dividend_curve, model)\n",
    "    elif flag == 'put':\n",
    "        put_option = EquityVanillaOption(expiry_date, K, OptionTypes.EUROPEAN_PUT)\n",
    "        optDelta = put_option.delta(valuation_date, S, discount_curve, dividend_curve, model)\n",
    "    else :\n",
    "        print('Please define flag as call or put')\n",
    "        \n",
    "    return optDelta"
   ]
  },
  {
   "cell_type": "code",
   "execution_count": 6,
   "metadata": {},
   "outputs": [
    {
     "name": "stdout",
     "output_type": "stream",
     "text": [
      "Delta of ATM Forward Call 0.5398278962083318\n",
      "Delta of ATM Forward Put -0.4601721037916682\n"
     ]
    }
   ],
   "source": [
    "#Testing Delta for ATM Forward option\n",
    "cDelta = vanillaDelta(100 * mth.exp(0.02), 100, 0.02, 0.2, 0.00, 1, Date(12, 12, 2022), \"call\")\n",
    "pDelta = vanillaDelta(100 * mth.exp(0.02), 100, 0.02, 0.2, 0.00, 1, Date(12, 12, 2022), \"put\")\n",
    "print(\"Delta of ATM Forward Call\", cDelta)\n",
    "print(\"Delta of ATM Forward Put\", pDelta)"
   ]
  },
  {
   "cell_type": "markdown",
   "metadata": {},
   "source": [
    "c) In Python in a notebook, write a function called OptionSim that simulates the\n",
    "delta hedging of a European call option from trade date until expiry. It should use\n",
    "the function in (a) for calculating the option price and in (b) delta. The function\n",
    "inputs must include the option strike K, spot price of the stock S, risk-free rate\n",
    "r, the stock price drift µ (we do not assume that the stock grows at r), volatil\u0002ity σ and years to expiry T..."
   ]
  },
  {
   "cell_type": "code",
   "execution_count": 7,
   "metadata": {},
   "outputs": [],
   "source": [
    "from scipy import stats\n",
    "from datetime import date"
   ]
  },
  {
   "cell_type": "code",
   "execution_count": 8,
   "metadata": {
    "scrolled": true
   },
   "outputs": [],
   "source": [
    "np.random.seed(2410)\n",
    "\n",
    "# I compute the minimum necessary data in the loop to make the code fast: only delta, cashbalance & Stock Price are computed at each step\n",
    "def optionSim(K, S, r, mu, sigma, q, T, valuation_date, n_steps):\n",
    "    \n",
    "    #Call option initial pricing\n",
    "    expiry_date = valuation_date.add_years(T)\n",
    "    discount_curve = DiscountCurveFlat(valuation_date, r, FrequencyTypes.CONTINUOUS)\n",
    "    dividend_curve = DiscountCurveFlat(valuation_date, q)\n",
    "    model = BlackScholes(sigma)\n",
    "    call_option = EquityVanillaOption(expiry_date, K, OptionTypes.EUROPEAN_CALL)  \n",
    "    \n",
    "    Cprice = call_option.value(valuation_date, S, discount_curve, dividend_curve, model)\n",
    "    \n",
    "    #Set up variables\n",
    "    dt = T/n_steps\n",
    "    delta = call_option.delta(valuation_date, S, discount_curve, dividend_curve, model) # delta at time t0\n",
    "    cash = Cprice - delta * S\n",
    "\n",
    "    for i in range (0, n_steps):\n",
    "        \n",
    "        #Simulating lognormal stock price process\n",
    "        eps = np.random.normal(0, 1) # eps=random.normal() simulate outcome of N(0,1)\n",
    "        S = S*mth.exp((mu-0.5*sigma ** 2)*dt+sigma*mth.sqrt(dt)*eps)\n",
    "        \n",
    "        #Updating discount curve and div curve with new valuation date\n",
    "        valuation_date = valuation_date.add_years(dt)\n",
    "        discount_curve = DiscountCurveFlat(valuation_date, r, FrequencyTypes.CONTINUOUS)\n",
    "        dividend_curve = DiscountCurveFlat(valuation_date, q)\n",
    "        \n",
    "        #Computing new delta -> if higher: buy shares, lower: sell shares\n",
    "        hedgingPortfolio = cash * mth.exp(r * dt) + delta * S #cash balance capitalized + value of shares\n",
    "        delta = call_option.delta(valuation_date, S, discount_curve, dividend_curve, model)\n",
    "        cash = (hedgingPortfolio - delta * S) #new cash balance after delta adjusting\n",
    "        \n",
    "    #hedgingPortfolio = cash * mth.exp(r * dt) + delta * S\n",
    "    \n",
    "    result = (S, max(S-K,0), delta, cash, hedgingPortfolio, hedgingPortfolio - max(S - K, 0))\n",
    "    #1.Stock price at maturity, 2. Payoff, 3.Delta at maturity, 4. Final cash balance, 5. Heding Portfolio, 6. Hedging Error\n",
    "    return result"
   ]
  },
  {
   "cell_type": "code",
   "execution_count": 9,
   "metadata": {
    "scrolled": true
   },
   "outputs": [],
   "source": [
    "K, S, r, mu, sigma, q, T = 100, 100, 0.02, 0.02, 0.2, 0.00, 1\n",
    "valuation_date = Date(25,11,2022)"
   ]
  },
  {
   "cell_type": "code",
   "execution_count": 10,
   "metadata": {},
   "outputs": [
    {
     "data": {
      "text/plain": [
       "(84.58765783993181,\n",
       " 0,\n",
       " 0.0,\n",
       " 1.2209907797708397,\n",
       " 1.2209907797708397,\n",
       " 1.2209907797708397)"
      ]
     },
     "execution_count": 10,
     "metadata": {},
     "output_type": "execute_result"
    }
   ],
   "source": [
    "optionSim(K, S, r, mu, sigma, q, T, valuation_date, 12) #K, S, r, mu, sigma, q, T, valuation_date, n_steps"
   ]
  },
  {
   "cell_type": "markdown",
   "metadata": {},
   "source": [
    "d) Write another function that calls the previous OptionSim function and which can then\n",
    "be used to calculate the hedging error over 1,000 different paths. You must provide a\n",
    "clear and easy-to-understand listing of your code in the answer"
   ]
  },
  {
   "cell_type": "code",
   "execution_count": 11,
   "metadata": {},
   "outputs": [],
   "source": [
    "def hedgingError(K, S, r, mu, sigma, q, T, valuation_date, n_steps):\n",
    "    \n",
    "    hedgingError = []\n",
    "    \n",
    "    for i in range(100):\n",
    "        simulation_result = optionSim(K, S, r, mu, sigma, q, T, valuation_date, n_steps)\n",
    "        hedgingError.append(simulation_result[5])\n",
    "    \n",
    "    average = sum(hedgingError) / len(hedgingError)\n",
    "    return average"
   ]
  },
  {
   "cell_type": "code",
   "execution_count": 13,
   "metadata": {},
   "outputs": [
    {
     "data": {
      "text/plain": [
       "0.08779324382829809"
      ]
     },
     "execution_count": 13,
     "metadata": {},
     "output_type": "execute_result"
    }
   ],
   "source": [
    "hedgingError(K, S, r, mu, sigma, q, T, valuation_date, 52)"
   ]
  },
  {
   "cell_type": "markdown",
   "metadata": {},
   "source": [
    "e) Consider a call option with S(0) = 100, K = 100, r = 5%, T = 1.0 and σ = 20%. Assume here that µ = r. For this option, make a scatterplot of the hedging error (y\u0002axis) versus the terminal stock price (x-axis) for N = 12 (monthly), N = 52 (weekly) and N = 252 (daily). Use different symbols or colours to distinguish the points."
   ]
  },
  {
   "cell_type": "code",
   "execution_count": 14,
   "metadata": {},
   "outputs": [],
   "source": [
    "K, S, r, mu, sigma, q, T, valuation_date = 100, 100, 0.05, 0.05, 0.2, 0.00, 1, Date(12,12,2022)"
   ]
  },
  {
   "cell_type": "code",
   "execution_count": 15,
   "metadata": {},
   "outputs": [],
   "source": [
    "def plotHE(K, S, r, mu, sigma, q, T, valuation_date, n_steps, color):\n",
    "    \n",
    "    hedgingError = []\n",
    "    ST = []\n",
    "    \n",
    "    for i in range(100):\n",
    "        simulation_result = optionSim(K, S, r, mu, sigma, q, T, valuation_date, n_steps)\n",
    "        ST.append(simulation_result[0])\n",
    "        hedgingError.append(simulation_result[5])\n",
    "        plt.scatter(ST[-1], hedgingError[-1], color = color)\n",
    "        plt.ylabel(\"Hedging Error\")\n",
    "        plt.xlabel(\"Stock price at maturity\")\n",
    "        \n",
    "    \n",
    "    #plt.scatter(ST, hedgingError, color = color)"
   ]
  },
  {
   "cell_type": "code",
   "execution_count": 16,
   "metadata": {},
   "outputs": [
    {
     "data": {
      "image/png": "[encoded data removed]",
      "text/plain": [
       "<Figure size 640x480 with 1 Axes>"
      ]
     },
     "metadata": {},
     "output_type": "display_data"
    }
   ],
   "source": [
    "plotHE(K, S, r, mu, sigma, q, T, valuation_date, 12, \"blue\")\n",
    "plotHE(K, S, r, mu, sigma, q, T, valuation_date, 52, \"red\")\n",
    "plotHE(K, S, r, mu, sigma, q, T, valuation_date, 252, \"green\")"
   ]
  },
  {
   "cell_type": "markdown",
   "metadata": {},
   "source": [
    "The shape formed by the scatterplot is as expected. Indeed the hedging error is positive when the underlying has not moved a lot.\n",
    "Being short of the call, we are short volatility and therefore profit from low volatility.\n"
   ]
  },
  {
   "cell_type": "code",
   "execution_count": 17,
   "metadata": {},
   "outputs": [],
   "source": [
    "def plotReplicatingError(K, S, r, mu, sigma, q, T, valuation_date, n_steps, color):\n",
    "    \n",
    "    hedgingPtf = []\n",
    "    ST = []\n",
    "    payoff = []\n",
    "    \n",
    "    for i in range(100):\n",
    "        simulation_result = optionSim(K, S, r, mu, sigma, q, T, valuation_date, n_steps)\n",
    "        ST.append(simulation_result[0])\n",
    "        hedgingPtf.append(simulation_result[4])\n",
    "        payoff.append(simulation_result[1])\n",
    "        plt.scatter(ST[-1], hedgingPtf[-1], color = color)\n",
    "        plt.scatter(ST[-1], payoff[-1], color = 'red')\n",
    "        plt.ylabel(\"Hedging Portfolio\")\n",
    "        plt.xlabel(\"Stock price at maturity\")"
   ]
  },
  {
   "cell_type": "code",
   "execution_count": 18,
   "metadata": {},
   "outputs": [
    {
     "data": {
      "image/png": "[encoded data removed]",
      "text/plain": [
       "<Figure size 640x480 with 1 Axes>"
      ]
     },
     "metadata": {},
     "output_type": "display_data"
    }
   ],
   "source": [
    "plotReplicatingError(K, S, r, mu, sigma, q, T, valuation_date, 12, \"blue\")"
   ]
  },
  {
   "cell_type": "markdown",
   "metadata": {},
   "source": [
    "f) For each value of N also calculate the mean and variance of this option hedging error over 1,000 different paths. You can use this to generate the answers to the remaining parts of this question. Present this in a simple table format"
   ]
  },
  {
   "cell_type": "code",
   "execution_count": 19,
   "metadata": {},
   "outputs": [],
   "source": [
    "def HEStats(K, S, r, mu, sigma, q, T, valuation_date, n_steps, n_paths):\n",
    "    \n",
    "    hedgingError = []\n",
    "    \n",
    "    for i in range(n_paths):\n",
    "        \n",
    "        simulation_result = optionSim(K, S, r, mu, sigma, q, T, valuation_date, n_steps)\n",
    "        hedgingError.append(simulation_result[5])\n",
    "        \n",
    "    meanHE =  sum(hedgingError) / len(hedgingError)\n",
    "    varHE = np.var(hedgingError)\n",
    "    \n",
    "    stats = (meanHE, varHE)\n",
    "    \n",
    "    return stats"
   ]
  },
  {
   "cell_type": "code",
   "execution_count": 20,
   "metadata": {},
   "outputs": [
    {
     "data": {
      "text/html": [
       "<div>\n",
       "<style scoped>\n",
       "    .dataframe tbody tr th:only-of-type {\n",
       "        vertical-align: middle;\n",
       "    }\n",
       "\n",
       "    .dataframe tbody tr th {\n",
       "        vertical-align: top;\n",
       "    }\n",
       "\n",
       "    .dataframe thead th {\n",
       "        text-align: right;\n",
       "    }\n",
       "</style>\n",
       "<table border=\"1\" class=\"dataframe\">\n",
       "  <thead>\n",
       "    <tr style=\"text-align: right;\">\n",
       "      <th></th>\n",
       "      <th>Mean</th>\n",
       "      <th>Variance</th>\n",
       "    </tr>\n",
       "  </thead>\n",
       "  <tbody>\n",
       "    <tr>\n",
       "      <th>N = 12</th>\n",
       "      <td>-0.038091</td>\n",
       "      <td>4.130634</td>\n",
       "    </tr>\n",
       "    <tr>\n",
       "      <th>N = 52</th>\n",
       "      <td>-0.065433</td>\n",
       "      <td>1.397675</td>\n",
       "    </tr>\n",
       "    <tr>\n",
       "      <th>N = 252</th>\n",
       "      <td>0.283853</td>\n",
       "      <td>1.721847</td>\n",
       "    </tr>\n",
       "  </tbody>\n",
       "</table>\n",
       "</div>"
      ],
      "text/plain": [
       "             Mean  Variance\n",
       "N = 12  -0.038091  4.130634\n",
       "N = 52  -0.065433  1.397675\n",
       "N = 252  0.283853  1.721847"
      ]
     },
     "execution_count": 20,
     "metadata": {},
     "output_type": "execute_result"
    }
   ],
   "source": [
    "HE12 = HEStats(K, S, r, mu, sigma, q, T, valuation_date, 12, 100)\n",
    "HE52 = HEStats(K, S, r, mu, sigma, q, T, valuation_date, 52, 100)\n",
    "HE252 = HEStats(K, S, r, mu, sigma, q, T, valuation_date, 252, 100)\n",
    "\n",
    "mean = [HE12[0], HE52[0], HE252[0]]\n",
    "variance = [HE12[1], HE52[1], HE252[1]]\n",
    "\n",
    "HEstatistics = pd.DataFrame(({\"Mean\": mean, 'Variance' : variance}), index = ['N = 12', 'N = 52', 'N = 252'])\n",
    "HEstatistics"
   ]
  },
  {
   "cell_type": "markdown",
   "metadata": {},
   "source": [
    "g) For the same call option, calculate the mean absolute error value and the variance of the hedging error for µ = 2.5%, 5.0%, 7.5%, 10% by sampling P = 10, 000 hedging paths using N = 52. Show the results in a table. What does this tell you ?\n"
   ]
  },
  {
   "cell_type": "code",
   "execution_count": 21,
   "metadata": {},
   "outputs": [
    {
     "data": {
      "text/html": [
       "<div>\n",
       "<style scoped>\n",
       "    .dataframe tbody tr th:only-of-type {\n",
       "        vertical-align: middle;\n",
       "    }\n",
       "\n",
       "    .dataframe tbody tr th {\n",
       "        vertical-align: top;\n",
       "    }\n",
       "\n",
       "    .dataframe thead th {\n",
       "        text-align: right;\n",
       "    }\n",
       "</style>\n",
       "<table border=\"1\" class=\"dataframe\">\n",
       "  <thead>\n",
       "    <tr style=\"text-align: right;\">\n",
       "      <th></th>\n",
       "      <th>Drift</th>\n",
       "      <th>Mean</th>\n",
       "      <th>Variance</th>\n",
       "    </tr>\n",
       "  </thead>\n",
       "  <tbody>\n",
       "    <tr>\n",
       "      <th>0</th>\n",
       "      <td>0.025</td>\n",
       "      <td>-0.114390</td>\n",
       "      <td>0.943881</td>\n",
       "    </tr>\n",
       "    <tr>\n",
       "      <th>1</th>\n",
       "      <td>0.050</td>\n",
       "      <td>-0.094170</td>\n",
       "      <td>0.798474</td>\n",
       "    </tr>\n",
       "    <tr>\n",
       "      <th>2</th>\n",
       "      <td>0.075</td>\n",
       "      <td>-0.019699</td>\n",
       "      <td>0.702865</td>\n",
       "    </tr>\n",
       "    <tr>\n",
       "      <th>3</th>\n",
       "      <td>0.100</td>\n",
       "      <td>-0.053315</td>\n",
       "      <td>0.549357</td>\n",
       "    </tr>\n",
       "  </tbody>\n",
       "</table>\n",
       "</div>"
      ],
      "text/plain": [
       "   Drift      Mean  Variance\n",
       "0  0.025 -0.114390  0.943881\n",
       "1  0.050 -0.094170  0.798474\n",
       "2  0.075 -0.019699  0.702865\n",
       "3  0.100 -0.053315  0.549357"
      ]
     },
     "execution_count": 21,
     "metadata": {},
     "output_type": "execute_result"
    }
   ],
   "source": [
    "drift = []\n",
    "mean = []\n",
    "variance = []\n",
    "\n",
    "for i in range(4): \n",
    "    mu = 0.025 + i * 0.025\n",
    "    simulation_result = HEStats(K, S, r, mu, sigma, q, T, valuation_date, 52, 100)\n",
    "    drift.append(mu)\n",
    "    mean.append(simulation_result[0])\n",
    "    variance.append(simulation_result[1])\n",
    "    \n",
    "HE = pd.DataFrame({'Drift': drift, \"Mean\": mean, 'Variance' : variance})\n",
    "HE"
   ]
  },
  {
   "cell_type": "markdown",
   "metadata": {},
   "source": [
    "# Question 2: Implementation of Transaction Costs with Leland adjustment"
   ]
  },
  {
   "cell_type": "markdown",
   "metadata": {},
   "source": [
    "a) Starting with the code from Question 1, amend your code to have a round trip bid\u0002ask transaction cost of µ% for each share purchase and sale (you buy at a price of\n",
    "S · (1 + µ/2) and sell at a price of S · (1 − µ/2)). The transaction costs of each trade\n",
    "will be taken out of the cash account"
   ]
  },
  {
   "cell_type": "code",
   "execution_count": 22,
   "metadata": {},
   "outputs": [],
   "source": [
    "# I compute the minimum necessary data in the loop to make the code fast: only delta, cashbalance & Stock Price are computed at each step\n",
    "def optionSimWithCost(K, S, r, mu, sigma, q, T, valuation_date, spread, n_steps):\n",
    "    \n",
    "    #Call option pricing\n",
    "    expiry_date = valuation_date.add_years(T)\n",
    "    discount_curve = DiscountCurveFlat(valuation_date, r, FrequencyTypes.CONTINUOUS)\n",
    "    dividend_curve = DiscountCurveFlat(valuation_date, q)\n",
    "    model = BlackScholes(sigma)\n",
    "    call_option = EquityVanillaOption(expiry_date, K, OptionTypes.EUROPEAN_CALL)             \n",
    "    Cprice = call_option.value(valuation_date, S, discount_curve, dividend_curve, model)\n",
    "    \n",
    "    #Set up variables\n",
    "    dt = T/n_steps\n",
    "    \n",
    "    #Initializing lists : option prime - delta * S\n",
    "    St = [S] # stock price at time t\n",
    "    deltat = [call_option.delta(valuation_date, S, discount_curve, dividend_curve, model)] # delta at time t\n",
    "    cashbalance = [Cprice - deltat[-1] * S * (1 + spread/2)]\n",
    "\n",
    "    for i in range (n_steps):\n",
    "        \n",
    "        #Simulating lognormal stock price process\n",
    "        eps = np.random.normal(0, 1) # eps=random.normal() simulate outcome of N(0,1)\n",
    "        S = S*mth.exp((mu-0.5*sigma ** 2)*dt+sigma*mth.sqrt(dt)*eps)\n",
    "        St.append(S)\n",
    "        \n",
    "        #Updating discount curve and div curve with new valuation date\n",
    "        valuation_date = valuation_date.add_years(dt)\n",
    "        discount_curve = DiscountCurveFlat(valuation_date, r, FrequencyTypes.CONTINUOUS)\n",
    "        dividend_curve = DiscountCurveFlat(valuation_date, q)\n",
    "        \n",
    "        deltat.append(call_option.delta(valuation_date, S, discount_curve, dividend_curve, model))\n",
    "        \n",
    "        if deltat[-1] < deltat[-2]:\n",
    "        # lower delta, sell shares at the bid\n",
    "            cashbalance.append(cashbalance[-1] - (deltat[-1] - deltat[-2]) * S * (1 - spread/2))\n",
    "        \n",
    "        if deltat[-1] > deltat[-2]:\n",
    "        # higher delta, buy shares at the ask\n",
    "            cashbalance.append(cashbalance[-1] - (deltat[-1] - deltat[-2]) * S * (1 + spread/2))\n",
    "    \n",
    "    result = (St[-1], max(St[-1]-K,0), deltat[-1], cashbalance[-1], S * deltat[-1] + cashbalance[-1], S * deltat[-1] + cashbalance[-1] - max(St[-1] - K, 0))\n",
    "\n",
    "    return result"
   ]
  },
  {
   "cell_type": "code",
   "execution_count": 24,
   "metadata": {},
   "outputs": [],
   "source": [
    "spread = 0.01"
   ]
  },
  {
   "cell_type": "code",
   "execution_count": 25,
   "metadata": {},
   "outputs": [
    {
     "data": {
      "text/plain": [
       "(73.8464765612491,\n",
       " 0,\n",
       " 0.0,\n",
       " -0.9592931687452566,\n",
       " -0.9592931687452566,\n",
       " -0.9592931687452566)"
      ]
     },
     "execution_count": 25,
     "metadata": {},
     "output_type": "execute_result"
    }
   ],
   "source": [
    "optionSimWithCost(K, S, r, mu, sigma, q, T, valuation_date, spread, 12)"
   ]
  },
  {
   "cell_type": "markdown",
   "metadata": {},
   "source": [
    "b) Calculate the mean hedging error value for (i) N = 12, 52, 250 with t =\n",
    "0.5%, 1.0%, 2.0% by sampling across P = 1, 000 hedging paths. Show the results\n",
    "in a table. Explain your results"
   ]
  },
  {
   "cell_type": "code",
   "execution_count": 26,
   "metadata": {},
   "outputs": [],
   "source": [
    "def HEStatsWithCost(K, S, r, mu, sigma, q, T, valuation_date, spread, n_steps, n_paths):\n",
    "    \n",
    "    hedgingError = []\n",
    "    \n",
    "    for i in range(n_paths):\n",
    "        \n",
    "        simulation_result = optionSimWithCost(K, S, r, mu, sigma, q, T, valuation_date, spread, n_steps)\n",
    "        hedgingError.append(simulation_result[5])\n",
    "        \n",
    "    meanHE =  sum(hedgingError) / len(hedgingError)\n",
    "    #varHE = np.var(hedgingError)\n",
    "    \n",
    "    stats = (meanHE)\n",
    "    #stats = (meanHE, varHE)\n",
    "    \n",
    "    return stats"
   ]
  },
  {
   "cell_type": "code",
   "execution_count": 27,
   "metadata": {},
   "outputs": [
    {
     "data": {
      "text/html": [
       "<div>\n",
       "<style scoped>\n",
       "    .dataframe tbody tr th:only-of-type {\n",
       "        vertical-align: middle;\n",
       "    }\n",
       "\n",
       "    .dataframe tbody tr th {\n",
       "        vertical-align: top;\n",
       "    }\n",
       "\n",
       "    .dataframe thead th {\n",
       "        text-align: right;\n",
       "    }\n",
       "</style>\n",
       "<table border=\"1\" class=\"dataframe\">\n",
       "  <thead>\n",
       "    <tr style=\"text-align: right;\">\n",
       "      <th></th>\n",
       "      <th>Transaction cost</th>\n",
       "      <th>Mean (12)</th>\n",
       "      <th>Mean (52)</th>\n",
       "      <th>Mean (252)</th>\n",
       "    </tr>\n",
       "  </thead>\n",
       "  <tbody>\n",
       "    <tr>\n",
       "      <th>0</th>\n",
       "      <td>0.005</td>\n",
       "      <td>2.831036</td>\n",
       "      <td>2.445610</td>\n",
       "      <td>1.884096</td>\n",
       "    </tr>\n",
       "    <tr>\n",
       "      <th>1</th>\n",
       "      <td>0.010</td>\n",
       "      <td>2.242448</td>\n",
       "      <td>1.644899</td>\n",
       "      <td>0.222803</td>\n",
       "    </tr>\n",
       "    <tr>\n",
       "      <th>2</th>\n",
       "      <td>0.020</td>\n",
       "      <td>1.326315</td>\n",
       "      <td>-0.216835</td>\n",
       "      <td>-2.192704</td>\n",
       "    </tr>\n",
       "  </tbody>\n",
       "</table>\n",
       "</div>"
      ],
      "text/plain": [
       "   Transaction cost  Mean (12)  Mean (52)  Mean (252)\n",
       "0             0.005   2.831036   2.445610    1.884096\n",
       "1             0.010   2.242448   1.644899    0.222803\n",
       "2             0.020   1.326315  -0.216835   -2.192704"
      ]
     },
     "execution_count": 27,
     "metadata": {},
     "output_type": "execute_result"
    }
   ],
   "source": [
    "tc = []\n",
    "mean12 = []\n",
    "mean52 = []\n",
    "mean252 = []\n",
    "\n",
    "for i in [0.005, 0.01, 0.02]: \n",
    "\n",
    "        spread = i\n",
    "        tc.append(spread)\n",
    "        simulation_result = HEStatsWithCost(K, S, r, mu, sigma, q, T, valuation_date, spread, 12, 100) \n",
    "        mean12.append(simulation_result)\n",
    "        simulation_result = HEStatsWithCost(K, S, r, mu, sigma, q, T, valuation_date, spread, 52, 100) \n",
    "        mean52.append(simulation_result)\n",
    "        simulation_result = HEStatsWithCost(K, S, r, mu, sigma, q, T, valuation_date, spread, 252, 100) \n",
    "        mean252.append(simulation_result)\n",
    "        \n",
    "        #variance.append(simulation_result[1])\n",
    "    \n",
    "HE = pd.DataFrame({'Transaction cost': tc, \"Mean (12)\": mean12, \"Mean (52)\": mean52, 'Mean (252)': mean252})\n",
    "HE"
   ]
  },
  {
   "cell_type": "markdown",
   "metadata": {},
   "source": [
    "c) Leland (Journal of Finance, 1985) showed that the cost of hedging taking into account\n",
    "hedging costs is equivalent to adjusting the volatility as follows:\n",
    "    \n",
    "    vol adjusted = vol * ( 1 + sqrt((2/pi)*(mu/sigma)) * sqrt(N) ) ** 1/2\n",
    "    \n",
    "Compare the price increase you obtained with the prices using this adjusted volatility\n",
    "in Black-Scholes."
   ]
  },
  {
   "cell_type": "code",
   "execution_count": 28,
   "metadata": {},
   "outputs": [],
   "source": [
    "def vanillaPriceLeland(K, S, r, sigma, q, T, valuation_date, n_steps, flag):\n",
    "\n",
    "    #Define dates\n",
    "    voladjusted = sigma * ( 1 + mth.sqrt((2/np.pi)*(mu/sigma)) * mth.sqrt(n_steps) ) ** 1/2\n",
    "    expiry_date = valuation_date.add_years(T)\n",
    "    \n",
    "    #Define the models to be used for risk-free rate, dividend and vol\n",
    "    discount_curve = DiscountCurveFlat(valuation_date, r, FrequencyTypes.CONTINUOUS)\n",
    "    dividend_curve = DiscountCurveFlat(valuation_date, q)\n",
    "    model = BlackScholes(voladjusted)\n",
    "    \n",
    "    if flag == 'call':\n",
    "        call_option = EquityVanillaOption(expiry_date, K, OptionTypes.EUROPEAN_CALL)\n",
    "        optPrice = call_option.value(valuation_date, S, discount_curve, dividend_curve, model)\n",
    "        vanillaPrice.delta = (valuation_date, S, discount_curve, dividend_curve, model)\n",
    "    elif flag == 'put':\n",
    "        put_option = EquityVanillaOption(expiry_date, K, OptionTypes.EUROPEAN_PUT)\n",
    "        optPrice = put_option.value(valuation_date, S, discount_curve, dividend_curve, model)\n",
    "        vanillaPrice.delta = (valuation_date, S, discount_curve, dividend_curve, model)\n",
    "    else :\n",
    "        print('Please define flag as call or put')\n",
    "\n",
    "    return optPrice"
   ]
  },
  {
   "cell_type": "code",
   "execution_count": 29,
   "metadata": {},
   "outputs": [
    {
     "data": {
      "text/plain": [
       "10.450575619322272"
      ]
     },
     "execution_count": 29,
     "metadata": {},
     "output_type": "execute_result"
    }
   ],
   "source": [
    "#BS Price of a call option, S = 100, K = 100, vol = 0.2, r = 0.05, T = 1\n",
    "vanillaPrice(100, 100, 0.05, 0.2, 0.00, 1, Date(15, 12, 2022),'call')"
   ]
  },
  {
   "cell_type": "code",
   "execution_count": 30,
   "metadata": {},
   "outputs": [
    {
     "data": {
      "text/plain": [
       "14.058268572460422"
      ]
     },
     "execution_count": 30,
     "metadata": {},
     "output_type": "execute_result"
    }
   ],
   "source": [
    "# Price of the call option with Leland adjustment for monthly hedging (N=12)\n",
    "vanillaPriceLeland(100, 100, 0.05, 0.2, 0.00, 1, Date(15, 12, 2022), 12,'call')"
   ]
  },
  {
   "cell_type": "code",
   "execution_count": 31,
   "metadata": {},
   "outputs": [
    {
     "data": {
      "text/plain": [
       "22.04927971966848"
      ]
     },
     "execution_count": 31,
     "metadata": {},
     "output_type": "execute_result"
    }
   ],
   "source": [
    "# Price with Leland adjustment for monthly hedging (N=52)\n",
    "vanillaPriceLeland(100, 100, 0.05, 0.2, 0.00, 1, Date(15, 12, 2022), 52,'call')"
   ]
  },
  {
   "cell_type": "code",
   "execution_count": 32,
   "metadata": {},
   "outputs": [
    {
     "data": {
      "text/plain": [
       "39.68998260452309"
      ]
     },
     "execution_count": 32,
     "metadata": {},
     "output_type": "execute_result"
    }
   ],
   "source": [
    "# Price with Leland adjustment for monthly hedging (N=252\n",
    "vanillaPriceLeland(100, 100, 0.05, 0.2, 0.00, 1, Date(15, 12, 2022), 252,'call')"
   ]
  },
  {
   "cell_type": "markdown",
   "metadata": {},
   "source": [
    "## Question 3\n",
    "### Determining the implied density of the terminal stock price from the volatility skew"
   ]
  },
  {
   "cell_type": "markdown",
   "metadata": {},
   "source": [
    "a) Suppose that we have managed to fit the 1-year volatility smile of the equity option\n",
    "market using a function\n",
    "σ(x) = ax2 + bx + c\n",
    "where x is the ”moneyness” (x = K/S(0)) and the initial stock price S(0) = 100\n",
    "and a = 0.025, b = −0.225 and c = 0.50. Build a Python function that extracts the\n",
    "market-implied distribution of S(T) at a 1-year horizon from σ(x) using the Breedon Litzenberger formula we derived in class. You should use FinancePy to calculate the\n",
    "option prices"
   ]
  },
  {
   "cell_type": "code",
   "execution_count": 33,
   "metadata": {},
   "outputs": [],
   "source": [
    "def vanillaPrice(K, S, r, sigma, q, T, valuation_date, flag):\n",
    "\n",
    "    #Define dates\n",
    "    expiry_date = valuation_date.add_years(T)\n",
    "    \n",
    "    #Define the models to be used for risk-free rate, dividend and vol\n",
    "    discount_curve = DiscountCurveFlat(valuation_date, r, FrequencyTypes.CONTINUOUS)\n",
    "    dividend_curve = DiscountCurveFlat(valuation_date, q)\n",
    "    model = BlackScholes(sigma)\n",
    "    \n",
    "    if flag == 'call':\n",
    "        call_option = EquityVanillaOption(expiry_date, K, OptionTypes.EUROPEAN_CALL)\n",
    "        optPrice = call_option.value(valuation_date, S, discount_curve, dividend_curve, model)\n",
    "        vanillaPrice.delta = (valuation_date, S, discount_curve, dividend_curve, model)\n",
    "    elif flag == 'put':\n",
    "        put_option = EquityVanillaOption(expiry_date, K, OptionTypes.EUROPEAN_PUT)\n",
    "        optPrice = put_option.value(valuation_date, S, discount_curve, dividend_curve, model)\n",
    "        vanillaPrice.delta = (valuation_date, S, discount_curve, dividend_curve, model)\n",
    "    else :\n",
    "        print('Please define flag as call or put')\n",
    "\n",
    "    return optPrice"
   ]
  },
  {
   "cell_type": "code",
   "execution_count": 34,
   "metadata": {
    "scrolled": true
   },
   "outputs": [
    {
     "data": {
      "image/png": "[encoded data removed]",
      "text/plain": [
       "<Figure size 640x480 with 2 Axes>"
      ]
     },
     "metadata": {},
     "output_type": "display_data"
    }
   ],
   "source": [
    "S, r, q, T = 100, 0.05, 0.00, 1\n",
    "valuation_date = Date(13, 12, 2022) #Today\n",
    "\n",
    "#creating one index (strikes) and the IV and option call price with respect to the strikes\n",
    "strikes, volatility, optPrice, moneyness = [], [], [], []\n",
    "\n",
    "a, b, c = 0.025, -0.225, 0.5 #fixing factors that fit the vol smile\n",
    "\n",
    "for i in range(251): \n",
    "    K = i\n",
    "    x = K/S\n",
    "    vol = a * x ** 2 + b * x + c  #volatility with respect to the moneyness\n",
    "    cPrice = vanillaPrice(K, S, r, vol, q, T, valuation_date, 'call')\n",
    "    optPrice.append(cPrice), strikes.append(K),volatility.append(vol), moneyness.append(x)\n",
    "\n",
    "#Once we have priced the set call options with the volatility function, we determine the implied probability distribution g(K)\n",
    "discountFactor = mth.exp(-r*T); d2VdK2 = [0]; density = [0]; cdf = [0]; cumul = 0\n",
    "\n",
    "for i in range(1, 250):\n",
    "    \n",
    "    d2VdK2.append((optPrice[i + 1] - 2 * optPrice[i] + optPrice[i - 1]) / (strikes[i] - strikes[i-1]) ** 2)\n",
    "    density.append( (1 / discountFactor) * (optPrice[i + 1] - 2 * optPrice[i] + optPrice[i - 1]) / (strikes[i] - strikes[i-1]) ** 2)\n",
    "    cumul = cumul + density[i]\n",
    "    cdf.append(cumul)\n",
    "    \n",
    "# impossible to compute the last value but we need to match the number of lines\n",
    "d2VdK2.append(0); density.append(0); cdf.append(1)\n",
    "\n",
    "df = pd.DataFrame({'Moneyness': moneyness, 'Volatility(K)': volatility, 'Price': optPrice, 'd2V/dK2': d2VdK2, 'density': density, 'cdf': cdf}, strikes)\n",
    "df.index.name = 'Strike K'\n",
    "\n",
    "#df.plot(y = 'Volatility(K)', use_index=True ) # Plotting Volatility (y) with regard to index (x)\n",
    "\n",
    "fig,ax = plt.subplots()\n",
    "ax.plot(df['Moneyness'], df['Volatility(K)'], color = 'red')\n",
    "ax.set_xlabel(\"Moneyness\", fontsize = 14)\n",
    "ax.set_ylabel(\"Volatility(K)\", color = 'red', fontsize = 14)\n",
    "\n",
    "ax2 = ax.twinx()\n",
    "ax2.plot(df['Moneyness'], df['density'], color = 'blue')\n",
    "ax2.set_ylabel('Density Function', color = 'blue', fontsize = 14)\n",
    "plt.show()\n"
   ]
  },
  {
   "cell_type": "markdown",
   "metadata": {},
   "source": [
    "(b) A digital call option pays $1 if S(T) > K and zero otherwise. Using the probability\n",
    "density function implied by this volatility smile, calculate a table of prices of the 1-\n",
    "year European digital call option with strikes at K = 60, 80, 100, 120, 140. Assume\n",
    "that r = 5% and q = 0.0%."
   ]
  },
  {
   "cell_type": "code",
   "execution_count": 35,
   "metadata": {},
   "outputs": [],
   "source": [
    "from scipy.stats import norm"
   ]
  },
  {
   "cell_type": "code",
   "execution_count": 36,
   "metadata": {},
   "outputs": [
    {
     "name": "stdout",
     "output_type": "stream",
     "text": [
      "[0.9263845938144115, 0.794543457061593, 0.5913695112897308, 0.3559866886725479, 0.16414041353780506]\n"
     ]
    },
    {
     "data": {
      "text/html": [
       "<div>\n",
       "<style scoped>\n",
       "    .dataframe tbody tr th:only-of-type {\n",
       "        vertical-align: middle;\n",
       "    }\n",
       "\n",
       "    .dataframe tbody tr th {\n",
       "        vertical-align: top;\n",
       "    }\n",
       "\n",
       "    .dataframe thead th {\n",
       "        text-align: right;\n",
       "    }\n",
       "</style>\n",
       "<table border=\"1\" class=\"dataframe\">\n",
       "  <thead>\n",
       "    <tr style=\"text-align: right;\">\n",
       "      <th></th>\n",
       "      <th>Digit Price CDF</th>\n",
       "    </tr>\n",
       "    <tr>\n",
       "      <th>Strikes</th>\n",
       "      <th></th>\n",
       "    </tr>\n",
       "  </thead>\n",
       "  <tbody>\n",
       "    <tr>\n",
       "      <th>60</th>\n",
       "      <td>0.926385</td>\n",
       "    </tr>\n",
       "    <tr>\n",
       "      <th>80</th>\n",
       "      <td>0.794543</td>\n",
       "    </tr>\n",
       "    <tr>\n",
       "      <th>100</th>\n",
       "      <td>0.591370</td>\n",
       "    </tr>\n",
       "    <tr>\n",
       "      <th>120</th>\n",
       "      <td>0.355987</td>\n",
       "    </tr>\n",
       "    <tr>\n",
       "      <th>140</th>\n",
       "      <td>0.164140</td>\n",
       "    </tr>\n",
       "  </tbody>\n",
       "</table>\n",
       "</div>"
      ],
      "text/plain": [
       "         Digit Price CDF\n",
       "Strikes                 \n",
       "60              0.926385\n",
       "80              0.794543\n",
       "100             0.591370\n",
       "120             0.355987\n",
       "140             0.164140"
      ]
     },
     "execution_count": 36,
     "metadata": {},
     "output_type": "execute_result"
    }
   ],
   "source": [
    "digitPriceCDF = []; strikes = []\n",
    "\n",
    "for i in range (5):\n",
    "    K = 60 + i * 20\n",
    "    digitPrice = 1- discountFactor * (df['cdf'].values[K])\n",
    "    digitPriceCDF.append(digitPrice); strikes.append(K)\n",
    "\n",
    "print(digitPriceCDF)\n",
    "digitCDF = pd.DataFrame({'Digit Price CDF': digitPriceCDF}, strikes)\n",
    "digitCDF.index.name = \"Strikes\"\n",
    "digitCDF"
   ]
  },
  {
   "cell_type": "markdown",
   "metadata": {},
   "source": [
    "(c) Price the same set of digital call options using the Black-Scholes pricing formula for\n",
    "digital call options in the lecture notes or use FinancePy."
   ]
  },
  {
   "cell_type": "code",
   "execution_count": 37,
   "metadata": {},
   "outputs": [
    {
     "data": {
      "text/html": [
       "<div>\n",
       "<style scoped>\n",
       "    .dataframe tbody tr th:only-of-type {\n",
       "        vertical-align: middle;\n",
       "    }\n",
       "\n",
       "    .dataframe tbody tr th {\n",
       "        vertical-align: top;\n",
       "    }\n",
       "\n",
       "    .dataframe thead th {\n",
       "        text-align: right;\n",
       "    }\n",
       "</style>\n",
       "<table border=\"1\" class=\"dataframe\">\n",
       "  <thead>\n",
       "    <tr style=\"text-align: right;\">\n",
       "      <th></th>\n",
       "      <th>Strike</th>\n",
       "      <th>Moneyness</th>\n",
       "      <th>Volatility</th>\n",
       "      <th>Digit Price BS</th>\n",
       "      <th>Digit Price CDF</th>\n",
       "    </tr>\n",
       "  </thead>\n",
       "  <tbody>\n",
       "    <tr>\n",
       "      <th>0</th>\n",
       "      <td>60</td>\n",
       "      <td>0.6</td>\n",
       "      <td>0.374</td>\n",
       "      <td>0.861176</td>\n",
       "      <td>0.926385</td>\n",
       "    </tr>\n",
       "    <tr>\n",
       "      <th>1</th>\n",
       "      <td>80</td>\n",
       "      <td>0.8</td>\n",
       "      <td>0.336</td>\n",
       "      <td>0.704398</td>\n",
       "      <td>0.794543</td>\n",
       "    </tr>\n",
       "    <tr>\n",
       "      <th>2</th>\n",
       "      <td>100</td>\n",
       "      <td>1.0</td>\n",
       "      <td>0.300</td>\n",
       "      <td>0.481939</td>\n",
       "      <td>0.591370</td>\n",
       "    </tr>\n",
       "    <tr>\n",
       "      <th>3</th>\n",
       "      <td>120</td>\n",
       "      <td>1.2</td>\n",
       "      <td>0.266</td>\n",
       "      <td>0.251315</td>\n",
       "      <td>0.355987</td>\n",
       "    </tr>\n",
       "    <tr>\n",
       "      <th>4</th>\n",
       "      <td>140</td>\n",
       "      <td>1.4</td>\n",
       "      <td>0.234</td>\n",
       "      <td>0.085536</td>\n",
       "      <td>0.164140</td>\n",
       "    </tr>\n",
       "  </tbody>\n",
       "</table>\n",
       "</div>"
      ],
      "text/plain": [
       "   Strike  Moneyness  Volatility  Digit Price BS  Digit Price CDF\n",
       "0      60        0.6       0.374        0.861176         0.926385\n",
       "1      80        0.8       0.336        0.704398         0.794543\n",
       "2     100        1.0       0.300        0.481939         0.591370\n",
       "3     120        1.2       0.266        0.251315         0.355987\n",
       "4     140        1.4       0.234        0.085536         0.164140"
      ]
     },
     "execution_count": 37,
     "metadata": {},
     "output_type": "execute_result"
    }
   ],
   "source": [
    "S, r, q, T = 100, 0.05, 0.00, 1\n",
    "a, b, c = 0.025, -0.225, 0.5\n",
    "\n",
    "strikes, volatility, digitPriceBS, moneyness = [], [], [], []\n",
    "\n",
    "for i in range(5):\n",
    "    K = 60 + i * 20\n",
    "    x = K/S\n",
    "    vol = a * x ** 2 + b * x + c\n",
    "    d2 = ( np.log(S/K) + ( r - vol**2 / 2) * T) / ( vol * sqrt(T) )\n",
    "    nd2 = norm.cdf(d2)\n",
    "    digitC = mth.exp(-r * T) * nd2\n",
    "    \n",
    "    strikes.append(K); volatility.append(vol); digitPriceBS.append(digitC); moneyness.append(x)\n",
    "    \n",
    "digitBS = pd.DataFrame({'Strike': strikes, 'Moneyness': moneyness, 'Volatility': volatility, 'Digit Price BS': digitPriceBS, 'Digit Price CDF': digitPriceCDF })\n",
    "digitBS"
   ]
  },
  {
   "cell_type": "markdown",
   "metadata": {},
   "source": [
    "(d) Explain why the results of (b) and (c) do not agree with each other and explain which\n",
    "prices you think are more correct."
   ]
  },
  {
   "cell_type": "code",
   "execution_count": 38,
   "metadata": {},
   "outputs": [
    {
     "data": {
      "text/html": [
       "<div>\n",
       "<style scoped>\n",
       "    .dataframe tbody tr th:only-of-type {\n",
       "        vertical-align: middle;\n",
       "    }\n",
       "\n",
       "    .dataframe tbody tr th {\n",
       "        vertical-align: top;\n",
       "    }\n",
       "\n",
       "    .dataframe thead th {\n",
       "        text-align: right;\n",
       "    }\n",
       "</style>\n",
       "<table border=\"1\" class=\"dataframe\">\n",
       "  <thead>\n",
       "    <tr style=\"text-align: right;\">\n",
       "      <th></th>\n",
       "      <th>Strike</th>\n",
       "      <th>Moneyness</th>\n",
       "      <th>Volatility</th>\n",
       "      <th>Digit Price BS</th>\n",
       "      <th>Digit Price CDF</th>\n",
       "      <th>BS Error</th>\n",
       "    </tr>\n",
       "  </thead>\n",
       "  <tbody>\n",
       "    <tr>\n",
       "      <th>0</th>\n",
       "      <td>60</td>\n",
       "      <td>0.6</td>\n",
       "      <td>0.374</td>\n",
       "      <td>0.861176</td>\n",
       "      <td>0.926385</td>\n",
       "      <td>-0.065208</td>\n",
       "    </tr>\n",
       "    <tr>\n",
       "      <th>1</th>\n",
       "      <td>80</td>\n",
       "      <td>0.8</td>\n",
       "      <td>0.336</td>\n",
       "      <td>0.704398</td>\n",
       "      <td>0.794543</td>\n",
       "      <td>-0.090146</td>\n",
       "    </tr>\n",
       "    <tr>\n",
       "      <th>2</th>\n",
       "      <td>100</td>\n",
       "      <td>1.0</td>\n",
       "      <td>0.300</td>\n",
       "      <td>0.481939</td>\n",
       "      <td>0.591370</td>\n",
       "      <td>-0.109430</td>\n",
       "    </tr>\n",
       "    <tr>\n",
       "      <th>3</th>\n",
       "      <td>120</td>\n",
       "      <td>1.2</td>\n",
       "      <td>0.266</td>\n",
       "      <td>0.251315</td>\n",
       "      <td>0.355987</td>\n",
       "      <td>-0.104672</td>\n",
       "    </tr>\n",
       "    <tr>\n",
       "      <th>4</th>\n",
       "      <td>140</td>\n",
       "      <td>1.4</td>\n",
       "      <td>0.234</td>\n",
       "      <td>0.085536</td>\n",
       "      <td>0.164140</td>\n",
       "      <td>-0.078605</td>\n",
       "    </tr>\n",
       "  </tbody>\n",
       "</table>\n",
       "</div>"
      ],
      "text/plain": [
       "   Strike  Moneyness  Volatility  Digit Price BS  Digit Price CDF  BS Error\n",
       "0      60        0.6       0.374        0.861176         0.926385 -0.065208\n",
       "1      80        0.8       0.336        0.704398         0.794543 -0.090146\n",
       "2     100        1.0       0.300        0.481939         0.591370 -0.109430\n",
       "3     120        1.2       0.266        0.251315         0.355987 -0.104672\n",
       "4     140        1.4       0.234        0.085536         0.164140 -0.078605"
      ]
     },
     "execution_count": 38,
     "metadata": {},
     "output_type": "execute_result"
    }
   ],
   "source": [
    "Error = []\n",
    "for i in range (5):\n",
    "    error = digitBS['Digit Price BS'].values[i] - digitCDF['Digit Price CDF'].values[i]\n",
    "    Error.append(error)\n",
    "\n",
    "digitBS['BS Error'] = Error\n",
    "digitBS\n",
    "\n",
    "#We observe that BS is overpricing with respect to the CDF method\n",
    "    "
   ]
  },
  {
   "cell_type": "markdown",
   "metadata": {},
   "source": [
    "Black Scholes model assumes a log normal distribution of prices.\n",
    "While we have modified the model and injected the proper volatilities, strikes dependent (σ(x) = ax2 + bx + c ), the implied-price distribution is not changed in Black Scholes.\n",
    "\n",
    "In our case, higher volatilities for lower strikes mean that the distribution has fatter tails on the left, and so, that we have higher probability for lower prices, than the probability implied by the lognormal stock pricess process."
   ]
  },
  {
   "cell_type": "markdown",
   "metadata": {},
   "source": [
    "(e) Calculate the value of a put option with strike 100 which only pays out if the stock\n",
    "falls below $60 at expiry (this is a European and not a path dependent option). Explain\n",
    "carefully and clearly how this was done."
   ]
  },
  {
   "cell_type": "code",
   "execution_count": 39,
   "metadata": {},
   "outputs": [
    {
     "name": "stdout",
     "output_type": "stream",
     "text": [
      "9.354187384228622\n"
     ]
    }
   ],
   "source": [
    "# First we price a put strike 100\n",
    "\n",
    "S, K, r, q, T = 100, 100, 0.05, 0.00, 1\n",
    "valuation_date = Date(13, 12, 2022) \n",
    "\n",
    "#creating one index (strikes) and the IV and option call price with respect to the strikes\n",
    "strikes, volatility, optPrice, moneyness = [], [], [], []\n",
    "\n",
    "a, b, c = 0.025, -0.225, 0.5 #fixing factors that fit the vol smile\n",
    "\n",
    "x = K/S\n",
    "vol = a * x ** 2 + b * x + c  #volatility with respect to the moneyness\n",
    "pPrice = vanillaPrice(K, S, r, vol, q, T, valuation_date, 'put')\n",
    "print(pPrice)"
   ]
  },
  {
   "cell_type": "code",
   "execution_count": 40,
   "metadata": {},
   "outputs": [],
   "source": [
    "#We know that the put only pays off if it ends up below the barrier level at maturity\n",
    "#Therefore, we multiply the price of the put by the probability that it is actually exercised\n",
    "#This probability discounted is the price of the digit Put strike 60"
   ]
  },
  {
   "cell_type": "code",
   "execution_count": 41,
   "metadata": {},
   "outputs": [
    {
     "name": "stdout",
     "output_type": "stream",
     "text": [
      "0.0900529396112726\n"
     ]
    }
   ],
   "source": [
    "S, r, q, T = 100, 0.05, 0.00, 1\n",
    "a, b, c = 0.025, -0.225, 0.5\n",
    "\n",
    "strikes, volatility, digitPriceBS, moneyness = [], [], [], []\n",
    "\n",
    "\n",
    "K = 60\n",
    "x = K/S\n",
    "vol = a * x ** 2 + b * x + c\n",
    "d2 = ( np.log(S/K) + ( r - vol**2 / 2) * T) / ( vol * sqrt(T) )\n",
    "nd2 = norm.cdf(d2)\n",
    "digitP = mth.exp(-r * T) * (1 - nd2)\n",
    "\n",
    "print(digitP)"
   ]
  },
  {
   "cell_type": "code",
   "execution_count": 42,
   "metadata": {
    "scrolled": true
   },
   "outputs": [
    {
     "name": "stdout",
     "output_type": "stream",
     "text": [
      "0.8423720716244681\n"
     ]
    }
   ],
   "source": [
    "digitPutPrice = digitP * pPrice\n",
    "print(digitPutPrice)"
   ]
  },
  {
   "cell_type": "code",
   "execution_count": 43,
   "metadata": {},
   "outputs": [],
   "source": [
    "#We find a price of 0.84, which is way lower than the put price."
   ]
  }
 ],
 "metadata": {
  "kernelspec": {
   "display_name": "Python 3 (ipykernel)",
   "language": "python",
   "name": "python3"
  },
  "language_info": {
   "codemirror_mode": {
    "name": "ipython",
    "version": 3
   },
   "file_extension": ".py",
   "mimetype": "text/x-python",
   "name": "python",
   "nbconvert_exporter": "python",
   "pygments_lexer": "ipython3",
   "version": "3.9.13"
  }
 },
 "nbformat": 4,
 "nbformat_minor": 2
}
